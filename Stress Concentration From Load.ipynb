{
 "cells": [
  {
   "cell_type": "markdown",
   "metadata": {
    "Collapsed": "false"
   },
   "source": [
    "# The Stress Concentration, K in Notched Bend Specimens"
   ]
  },
  {
   "cell_type": "code",
   "execution_count": 1,
   "metadata": {
    "Collapsed": "false"
   },
   "outputs": [],
   "source": [
    "#Import packages and magic functions\n",
    "import numpy as np \n",
    "import matplotlib.pyplot as plt \n",
    "from scipy import integrate\n",
    "import sympy as sym\n",
    "from sympy import *\n",
    "\n",
    "%matplotlib inline\n"
   ]
  },
  {
   "cell_type": "markdown",
   "metadata": {
    "Collapsed": "false"
   },
   "source": [
    "The purpose of this program is to solve for the stress concentration in a notched bend specimen"
   ]
  },
  {
   "cell_type": "code",
   "execution_count": 2,
   "metadata": {
    "Collapsed": "false"
   },
   "outputs": [
    {
     "data": {
      "text/plain": [
       "<IPython.core.display.SVG object>"
      ]
     },
     "execution_count": 2,
     "metadata": {},
     "output_type": "execute_result"
    }
   ],
   "source": [
    "from IPython.display import SVG\n",
    "SVG(url='https://en.wikipedia.org/wiki/Three-point_flexural_test#/media/File:SingleEdgeNotchBending.svg')"
   ]
  },
  {
   "cell_type": "code",
   "execution_count": 3,
   "metadata": {
    "Collapsed": "false"
   },
   "outputs": [],
   "source": [
    "#Print nice in sympy, prints variable when called without print function\n",
    "sym.init_printing()\n",
    "\n",
    "#Define symbols\n",
    "a, W, Pq, S, B , z, Kq= sym.symbols(\"a,W,Pq,S,B,z,Kq\")\n",
    "\n",
    "f = sym.Function(\"f\")"
   ]
  },
  {
   "cell_type": "code",
   "execution_count": 4,
   "metadata": {
    "Collapsed": "false"
   },
   "outputs": [
    {
     "data": {
      "image/png": "[encoded data removed]",
      "text/latex": [
       "$\\displaystyle \\frac{3.0 \\sqrt{\\frac{a}{W}} \\left(1.99 - \\frac{a \\left(1 - \\frac{a}{W}\\right) \\left(2.15 - \\frac{3.93 a}{W} + \\frac{2.7 a^{2}}{W^{2}}\\right)}{W}\\right)}{\\left(1 - \\frac{a}{W}\\right)^{1.5} \\left(2 + \\frac{4 a}{W}\\right)} - f{\\left(\\frac{a}{W} \\right)} = 0$"
      ],
      "text/plain": [
       "                        ⎛                 ⎛                     2⎞⎞           \n",
       "                        ⎜         ⎛    a⎞ ⎜       3.93⋅a   2.7⋅a ⎟⎟           \n",
       "                        ⎜       a⋅⎜1 - ─⎟⋅⎜2.15 - ────── + ──────⎟⎟           \n",
       "        ___        -1.5 ⎜         ⎝    W⎠ ⎜         W         2  ⎟⎟           \n",
       "       ╱ a  ⎛    a⎞     ⎜                 ⎝                  W   ⎠⎟           \n",
       "3.0⋅  ╱  ─ ⋅⎜1 - ─⎟    ⋅⎜1.99 - ──────────────────────────────────⎟           \n",
       "    ╲╱   W  ⎝    W⎠     ⎝                       W                 ⎠    ⎛a⎞    \n",
       "─────────────────────────────────────────────────────────────────── - f⎜─⎟ = 0\n",
       "                                  4⋅a                                  ⎝W⎠    \n",
       "                              2 + ───                                         \n",
       "                                   W                                          "
      ]
     },
     "execution_count": 4,
     "metadata": {},
     "output_type": "execute_result"
    }
   ],
   "source": [
    "#Define and print coefficient f for notched bend specimen in terms of a and W\n",
    "\n",
    "eq1 = 3.0*((sym.sqrt(a/W))*(1.99-((a/W)*(1-(a/W))*(2.15-(3.93*(a/W))+2.7*((a/W)**2)))) / ((2*(1+2*(a/W))*((1-(a/W))**(3/2))))) - f(a/W)\n",
    "\n",
    "sym.Eq(eq1)"
   ]
  },
  {
   "cell_type": "code",
   "execution_count": 5,
   "metadata": {
    "Collapsed": "false"
   },
   "outputs": [
    {
     "data": {
      "image/png": "[encoded data removed]",
      "text/latex": [
       "$\\displaystyle \\frac{3.0 \\sqrt{z} \\left(- z \\left(1 - z\\right) \\left(2.7 z^{2} - 3.93 z + 2.15\\right) + 1.99\\right)}{\\left(1 - z\\right)^{1.5} \\left(4 z + 2\\right)} - f{\\left(z \\right)} = 0$"
      ],
      "text/plain": [
       "              -1.5 ⎛            ⎛     2                ⎞       ⎞           \n",
       "3.0⋅√z⋅(1 - z)    ⋅⎝- z⋅(1 - z)⋅⎝2.7⋅z  - 3.93⋅z + 2.15⎠ + 1.99⎠           \n",
       "──────────────────────────────────────────────────────────────── - f(z) = 0\n",
       "                            4⋅z + 2                                        "
      ]
     },
     "execution_count": 5,
     "metadata": {},
     "output_type": "execute_result"
    }
   ],
   "source": [
    "#Define and print coefficient f for notched bend specimen in terms of z (a/W)\n",
    "eq2 = 3.0*((sym.sqrt(z))*(1.99-((z)*(1-(z))*(2.15-(3.93*(z))+2.7*((z)**2)))) / ((2*(1+2*(z))*((1-(z))**(3/2))))) - f(z)\n",
    "\n",
    "sym.Eq(eq2)"
   ]
  },
  {
   "cell_type": "code",
   "execution_count": 6,
   "metadata": {
    "Collapsed": "false"
   },
   "outputs": [
    {
     "data": {
      "image/png": "[encoded data removed]",
      "text/latex": [
       "$\\displaystyle - Kq + \\frac{Pq S f{\\left(\\frac{a}{W} \\right)}}{B W^{1.5}} = 0$"
      ],
      "text/plain": [
       "            -1.5  ⎛a⎞    \n",
       "      Pq⋅S⋅W    ⋅f⎜─⎟    \n",
       "                  ⎝W⎠    \n",
       "-Kq + ─────────────── = 0\n",
       "             B           "
      ]
     },
     "execution_count": 6,
     "metadata": {},
     "output_type": "execute_result"
    }
   ],
   "source": [
    "#Define and print equation for Kq in notched bend specimen\n",
    "eq3 = (Pq*S/(B*(W**1.5)))*f(a/W) - Kq\n",
    "\n",
    "sym.Eq(eq3)"
   ]
  },
  {
   "cell_type": "markdown",
   "metadata": {
    "Collapsed": "false"
   },
   "source": [
    "## Define Parameters"
   ]
  },
  {
   "cell_type": "code",
   "execution_count": 7,
   "metadata": {
    "Collapsed": "false"
   },
   "outputs": [],
   "source": [
    "#Crack size in mm and m, a\n",
    "a = 3.5\n",
    "a = a/1000\n",
    "#Specimen depth in mm and m, W\n",
    "W = 12.6\n",
    "W = W/1000\n",
    "#Span of bend supports mm and m,S\n",
    "S = 50.4\n",
    "S = S/1000\n",
    "#Specimen thickness mm and m, B\n",
    "B = 6\n",
    "B = B/1000\n",
    "#Force in N\n",
    "Pmax = 937\n",
    "Pmin = 94"
   ]
  },
  {
   "cell_type": "code",
   "execution_count": 8,
   "metadata": {
    "Collapsed": "false"
   },
   "outputs": [
    {
     "name": "stdout",
     "output_type": "stream",
     "text": [
      "a = 0.0035 meters\n",
      "W = 0.0126 meters\n",
      "S = 0.0504 meters\n",
      "B = 0.006 meters\n",
      "Pmax = 937 N\n",
      "Pmin = 94 N\n"
     ]
    }
   ],
   "source": [
    "#Print parameters\n",
    "print(\"a =\",a,\"meters\")\n",
    "print(\"W =\", W,\"meters\")\n",
    "print(\"S =\", S,\"meters\")\n",
    "print(\"B =\", B,\"meters\")\n",
    "print(\"Pmax =\", Pmax,\"N\")\n",
    "print(\"Pmin =\", Pmin,\"N\")"
   ]
  },
  {
   "cell_type": "code",
   "execution_count": 9,
   "metadata": {
    "Collapsed": "false"
   },
   "outputs": [
    {
     "data": {
      "image/png": "[encoded data removed]",
      "text/latex": [
       "$\\displaystyle 0.2777777777777778$"
      ],
      "text/plain": [
       "0.2777777777777778"
      ]
     },
     "execution_count": 9,
     "metadata": {},
     "output_type": "execute_result"
    }
   ],
   "source": [
    "#Define and print new variable z\n",
    "z = a/W\n",
    "z"
   ]
  },
  {
   "cell_type": "markdown",
   "metadata": {
    "Collapsed": "false"
   },
   "source": [
    "## Solution"
   ]
  },
  {
   "cell_type": "code",
   "execution_count": 10,
   "metadata": {
    "Collapsed": "false"
   },
   "outputs": [
    {
     "data": {
      "image/png": "[encoded data removed]",
      "text/latex": [
       "$\\displaystyle 1.43737175122033$"
      ],
      "text/plain": [
       "1.43737175122033"
      ]
     },
     "execution_count": 10,
     "metadata": {},
     "output_type": "execute_result"
    }
   ],
   "source": [
    "f= 3.0*((sym.sqrt(a/W))*(1.99-((a/W)*(1-(a/W))*(2.15-(3.93*(a/W))+2.7*((a/W)**2)))) / ((2*(1+2*(a/W))*((1-(a/W))**(3/2)))))\n",
    "f"
   ]
  },
  {
   "cell_type": "code",
   "execution_count": 11,
   "metadata": {
    "Collapsed": "false"
   },
   "outputs": [
    {
     "name": "stdout",
     "output_type": "stream",
     "text": [
      "Kmax = 7998934.94408354 Pa*(m^0.5)\n",
      "Kmax = 7.99893494408354 MPa*(m^0.5)\n",
      "Kmin = 0.802454519470494 MPa*(m^0.5)\n",
      "delK = 7.19648042461304 MPa*(m^0.5)\n"
     ]
    }
   ],
   "source": [
    "#Solve for stress concentration, Kq\n",
    "Kmax = ((Pmax*S)/(B*(W**1.5)))*f\n",
    "Kmin = ((Pmin*S)/(B*(W**1.5)))*f\n",
    "delK = Kmax - Kmin\n",
    "\n",
    "print(\"Kmax =\", Kmax, \"Pa*(m^0.5)\")\n",
    "print(\"Kmax =\", Kmax/(10**6), \"MPa*(m^0.5)\")\n",
    "print(\"Kmin =\", Kmin/(10**6), \"MPa*(m^0.5)\")\n",
    "print(\"delK =\", delK/(10**6), \"MPa*(m^0.5)\")"
   ]
  },
  {
   "cell_type": "code",
   "execution_count": null,
   "metadata": {
    "Collapsed": "false"
   },
   "outputs": [],
   "source": []
  }
 ],
 "metadata": {
  "kernelspec": {
   "display_name": "Python 3",
   "language": "python",
   "name": "python3"
  },
  "language_info": {
   "codemirror_mode": {
    "name": "ipython",
    "version": 3
   },
   "file_extension": ".py",
   "mimetype": "text/x-python",
   "name": "python",
   "nbconvert_exporter": "python",
   "pygments_lexer": "ipython3",
   "version": "3.7.3"
  }
 },
 "nbformat": 4,
 "nbformat_minor": 4
}
