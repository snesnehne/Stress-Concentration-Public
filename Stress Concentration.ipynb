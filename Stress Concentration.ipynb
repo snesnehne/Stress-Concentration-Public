{
 "cells": [
  {
   "cell_type": "markdown",
   "metadata": {
    "Collapsed": "false"
   },
   "source": [
    "# The Stress Concentration, K, in Notched Bend Specimens"
   ]
  },
  {
   "cell_type": "markdown",
   "metadata": {
    "Collapsed": "false"
   },
   "source": [
    "## Import packages and define equations"
   ]
  },
  {
   "cell_type": "code",
   "execution_count": 1,
   "metadata": {
    "Collapsed": "false"
   },
   "outputs": [],
   "source": [
    "#Import packages and magic functions\n",
    "import numpy as np \n",
    "import matplotlib.pyplot as plt \n",
    "from scipy import integrate\n",
    "import sympy as sym\n",
    "from sympy import *\n",
    "\n",
    "%matplotlib inline"
   ]
  },
  {
   "cell_type": "markdown",
   "metadata": {
    "Collapsed": "false"
   },
   "source": [
    "The purpose of this program is to solve for the stress concentration in a notched bend specimen."
   ]
  },
  {
   "cell_type": "code",
   "execution_count": 2,
   "metadata": {
    "Collapsed": "false"
   },
   "outputs": [
    {
     "data": {
      "text/plain": [
       "<IPython.core.display.SVG object>"
      ]
     },
     "metadata": {},
     "output_type": "display_data"
    }
   ],
   "source": [
    "from IPython.display import SVG, display\n",
    "display(SVG(url='https://en.wikipedia.org/wiki/Three-point_flexural_test#/media/File:SingleEdgeNotchBending.svg'))"
   ]
  },
  {
   "cell_type": "markdown",
   "metadata": {
    "Collapsed": "false"
   },
   "source": [
    "The stress concentation range, $\\Delta$K, to start a crack in aluminum alloys should be about **7 MPa**. For a stress ratio of **0.1** this gives a rough maximum stress concentration of **8 MPa** and minimum of **1 MPa**."
   ]
  },
  {
   "cell_type": "code",
   "execution_count": 3,
   "metadata": {
    "Collapsed": "false"
   },
   "outputs": [],
   "source": [
    "#Print nice in sympy, prints variable when called without print function\n",
    "sym.init_printing()\n",
    "\n",
    "#Define symbols\n",
    "a, W, Pq, S, B , z, Kq= sym.symbols(\"a,W,Pq,S,B,z,Kq\")\n",
    "\n",
    "f = sym.Function(\"f\")"
   ]
  },
  {
   "cell_type": "markdown",
   "metadata": {
    "Collapsed": "false"
   },
   "source": [
    "Coefficient $f$ for specimen geometetry based on the crack to width ratio, $\\frac{a}{W}$"
   ]
  },
  {
   "cell_type": "code",
   "execution_count": 4,
   "metadata": {
    "Collapsed": "false"
   },
   "outputs": [
    {
     "data": {
      "image/png": "[encoded data removed]",
      "text/latex": [
       "$\\displaystyle \\frac{3.0 \\sqrt{\\frac{a}{W}} \\left(1.99 - \\frac{a \\left(1 - \\frac{a}{W}\\right) \\left(2.15 - \\frac{3.93 a}{W} + \\frac{2.7 a^{2}}{W^{2}}\\right)}{W}\\right)}{\\left(1 - \\frac{a}{W}\\right)^{1.5} \\left(2 + \\frac{4 a}{W}\\right)} - f{\\left(\\frac{a}{W} \\right)} = 0$"
      ],
      "text/plain": [
       "                        ⎛                 ⎛                     2⎞⎞           \n",
       "                        ⎜         ⎛    a⎞ ⎜       3.93⋅a   2.7⋅a ⎟⎟           \n",
       "                        ⎜       a⋅⎜1 - ─⎟⋅⎜2.15 - ────── + ──────⎟⎟           \n",
       "        ___        -1.5 ⎜         ⎝    W⎠ ⎜         W         2  ⎟⎟           \n",
       "       ╱ a  ⎛    a⎞     ⎜                 ⎝                  W   ⎠⎟           \n",
       "3.0⋅  ╱  ─ ⋅⎜1 - ─⎟    ⋅⎜1.99 - ──────────────────────────────────⎟           \n",
       "    ╲╱   W  ⎝    W⎠     ⎝                       W                 ⎠    ⎛a⎞    \n",
       "─────────────────────────────────────────────────────────────────── - f⎜─⎟ = 0\n",
       "                                  4⋅a                                  ⎝W⎠    \n",
       "                              2 + ───                                         \n",
       "                                   W                                          "
      ]
     },
     "execution_count": 4,
     "metadata": {},
     "output_type": "execute_result"
    }
   ],
   "source": [
    "#Define and print coefficient f for notched bend specimen in terms of a and W\n",
    "\n",
    "eq1 = 3.0*((sym.sqrt(a/W))*(1.99-((a/W)*(1-(a/W))*(2.15-(3.93*(a/W))+2.7*((a/W)**2)))) / ((2*(1+2*(a/W))*((1-(a/W))**(3/2))))) - f(a/W)\n",
    "\n",
    "sym.Eq(eq1)"
   ]
  },
  {
   "cell_type": "markdown",
   "metadata": {
    "Collapsed": "false"
   },
   "source": [
    "Create new variable, $z = \\frac{a}{W}$, and simplify function for $f$"
   ]
  },
  {
   "cell_type": "code",
   "execution_count": 5,
   "metadata": {
    "Collapsed": "false",
    "jupyter": {
     "source_hidden": true
    }
   },
   "outputs": [
    {
     "data": {
      "image/png": "[encoded data removed]",
      "text/latex": [
       "$\\displaystyle \\frac{3.0 \\sqrt{z} \\left(- z \\left(1 - z\\right) \\left(2.7 z^{2} - 3.93 z + 2.15\\right) + 1.99\\right)}{\\left(1 - z\\right)^{1.5} \\left(4 z + 2\\right)} - f{\\left(z \\right)} = 0$"
      ],
      "text/plain": [
       "              -1.5 ⎛            ⎛     2                ⎞       ⎞           \n",
       "3.0⋅√z⋅(1 - z)    ⋅⎝- z⋅(1 - z)⋅⎝2.7⋅z  - 3.93⋅z + 2.15⎠ + 1.99⎠           \n",
       "──────────────────────────────────────────────────────────────── - f(z) = 0\n",
       "                            4⋅z + 2                                        "
      ]
     },
     "execution_count": 5,
     "metadata": {},
     "output_type": "execute_result"
    }
   ],
   "source": [
    "#Define and print coefficient f for notched bend specimen in terms of z (a/W)\n",
    "eq2 = 3.0*((sym.sqrt(z))*(1.99-((z)*(1-(z))*(2.15-(3.93*(z))+2.7*((z)**2)))) / ((2*(1+2*(z))*((1-(z))**(3/2))))) - f(z)\n",
    "\n",
    "sym.Eq(eq2)"
   ]
  },
  {
   "cell_type": "markdown",
   "metadata": {
    "Collapsed": "false"
   },
   "source": [
    "Equation for stress concentraion, $K_q$, for a notched bend specimen"
   ]
  },
  {
   "cell_type": "code",
   "execution_count": 6,
   "metadata": {
    "Collapsed": "false",
    "jupyter": {
     "source_hidden": true
    }
   },
   "outputs": [
    {
     "data": {
      "image/png": "[encoded data removed]",
      "text/latex": [
       "$\\displaystyle - Kq + \\frac{Pq S f{\\left(\\frac{a}{W} \\right)}}{B W^{1.5}} = 0$"
      ],
      "text/plain": [
       "            -1.5  ⎛a⎞    \n",
       "      Pq⋅S⋅W    ⋅f⎜─⎟    \n",
       "                  ⎝W⎠    \n",
       "-Kq + ─────────────── = 0\n",
       "             B           "
      ]
     },
     "execution_count": 6,
     "metadata": {},
     "output_type": "execute_result"
    }
   ],
   "source": [
    "#Define and print equation for Kq in notched bend specimen\n",
    "eq3 = (Pq*S/(B*(W**1.5)))*f(a/W) - Kq\n",
    "\n",
    "sym.Eq(eq3)"
   ]
  },
  {
   "cell_type": "markdown",
   "metadata": {
    "Collapsed": "false"
   },
   "source": [
    "Rearrange to solve for load, $P_q$"
   ]
  },
  {
   "cell_type": "code",
   "execution_count": 7,
   "metadata": {
    "Collapsed": "false",
    "jupyter": {
     "source_hidden": true
    }
   },
   "outputs": [
    {
     "data": {
      "image/png": "[encoded data removed]",
      "text/latex": [
       "$\\displaystyle \\frac{B Kq W^{1.5}}{S f{\\left(z \\right)}} - Pq = 0$"
      ],
      "text/plain": [
       "      1.5         \n",
       "B⋅Kq⋅W            \n",
       "───────── - Pq = 0\n",
       "  S⋅f(z)          "
      ]
     },
     "execution_count": 7,
     "metadata": {},
     "output_type": "execute_result"
    }
   ],
   "source": [
    "#Print reordered equation solving for Pq in notched bend specimen\n",
    "eq4 = (Kq*(B*W**1.5))/(S*f(z)) - Pq\n",
    "\n",
    "sym.Eq(eq4)"
   ]
  },
  {
   "cell_type": "markdown",
   "metadata": {
    "Collapsed": "false"
   },
   "source": [
    "## Define Parameters"
   ]
  },
  {
   "cell_type": "code",
   "execution_count": 8,
   "metadata": {
    "Collapsed": "false"
   },
   "outputs": [],
   "source": [
    "#Crack size in mm and m, a\n",
    "a = 3.5\n",
    "a = a/1000\n",
    "#Specimen depth in mm and m, W\n",
    "W = 12.6\n",
    "W = W/1000\n",
    "#Span of bend supports mm and m,S\n",
    "S = 50.4\n",
    "S = S/1000\n",
    "#Specimen thickness mm and m, B\n",
    "B = 6\n",
    "B = B/1000\n",
    "#Stress Ratio, R\n",
    "R = 0.1\n",
    "#Desired stress concentration in MPa and Pa, K\n",
    "Kmax = 8\n",
    "Kmax = Kmax*(10**6)\n",
    "\n",
    "Kmin = Kmax*R\n",
    "Kmin = Kmin"
   ]
  },
  {
   "cell_type": "code",
   "execution_count": 9,
   "metadata": {
    "Collapsed": "false"
   },
   "outputs": [
    {
     "name": "stdout",
     "output_type": "stream",
     "text": [
      "a = 0.0035 meters\n",
      "W = 0.0126 meters\n",
      "S = 0.0504 meters\n",
      "B = 0.006 meters\n",
      "Kmax = 8000000 Pa\n",
      "Kmin = 800000.0 Pa\n"
     ]
    }
   ],
   "source": [
    "#Print parameters\n",
    "print(\"a =\",a,\"meters\")\n",
    "print(\"W =\", W,\"meters\")\n",
    "print(\"S =\", S,\"meters\")\n",
    "print(\"B =\", B,\"meters\")\n",
    "print(\"Kmax =\", Kmax,\"Pa\")\n",
    "print(\"Kmin =\", Kmin,\"Pa\")"
   ]
  },
  {
   "cell_type": "code",
   "execution_count": 10,
   "metadata": {
    "Collapsed": "false"
   },
   "outputs": [
    {
     "name": "stdout",
     "output_type": "stream",
     "text": [
      "z = 0.2778\n"
     ]
    }
   ],
   "source": [
    "#Define and print new variable z\n",
    "z = a/W\n",
    "print('z = {:.4f}'.format(z))"
   ]
  },
  {
   "cell_type": "markdown",
   "metadata": {
    "Collapsed": "false"
   },
   "source": [
    "## Solution"
   ]
  },
  {
   "cell_type": "markdown",
   "metadata": {
    "Collapsed": "false"
   },
   "source": [
    "Solve for f"
   ]
  },
  {
   "cell_type": "code",
   "execution_count": 11,
   "metadata": {
    "Collapsed": "false"
   },
   "outputs": [
    {
     "name": "stdout",
     "output_type": "stream",
     "text": [
      "f = 1.4374\n"
     ]
    }
   ],
   "source": [
    "f= 3.0*((sym.sqrt(a/W))*(1.99-((a/W)*(1-(a/W))*(2.15-(3.93*(a/W))+2.7*((a/W)**2)))) / ((2*(1+2*(a/W))*((1-(a/W))**(3/2)))))\n",
    "print('f = {:.4f}'.format(f))"
   ]
  },
  {
   "cell_type": "markdown",
   "metadata": {
    "Collapsed": "false"
   },
   "source": [
    "Confirmation of f using $z$"
   ]
  },
  {
   "cell_type": "code",
   "execution_count": 12,
   "metadata": {
    "Collapsed": "false"
   },
   "outputs": [
    {
     "name": "stdout",
     "output_type": "stream",
     "text": [
      "f2 = 1.4374\n"
     ]
    }
   ],
   "source": [
    "f2= 3.0*((sym.sqrt(z))*(1.99-((z)*(1-(z))*(2.15-(3.93*(z))+2.7*((z)**2)))) / ((2*(1+2*(z))*((1-(z))**(3/2)))))\n",
    "print('f2 = {:.4f}'.format(f2))"
   ]
  },
  {
   "cell_type": "markdown",
   "metadata": {
    "Collapsed": "false"
   },
   "source": [
    "Solve for test load based upon $K_q$, $B$, $W$, $S$ and $f$"
   ]
  },
  {
   "cell_type": "code",
   "execution_count": 13,
   "metadata": {
    "Collapsed": "false"
   },
   "outputs": [
    {
     "name": "stdout",
     "output_type": "stream",
     "text": [
      "Pmax = 937.12 N\n",
      "Pmin = 93.71 N\n"
     ]
    }
   ],
   "source": [
    "#Solve for test load Pq\n",
    "Pmax = (Kmax*(B*W**1.5))/(S*f)\n",
    "Pmin = (Kmin*(B*W**1.5))/(S*f)\n",
    "\n",
    "print('Pmax = {:.2f} N'.format(Pmax))\n",
    "print('Pmin = {:.2f} N'.format(Pmin))"
   ]
  },
  {
   "cell_type": "markdown",
   "metadata": {
    "Collapsed": "false"
   },
   "source": [
    "Define loading curve parameters"
   ]
  },
  {
   "cell_type": "code",
   "execution_count": 14,
   "metadata": {
    "Collapsed": "false"
   },
   "outputs": [],
   "source": [
    "#Load wave frequency\n",
    "frq = 10 #s^-1\n",
    "#Wave amplitude\n",
    "Amp = (Pmax - Pmin)/2\n",
    "#Load wave mean\n",
    "Mean = (Pmax + Pmin)/2\n",
    "#Material\n",
    "mat = \"6061 Aluminum\""
   ]
  },
  {
   "cell_type": "code",
   "execution_count": 15,
   "metadata": {
    "Collapsed": "false"
   },
   "outputs": [
    {
     "name": "stdout",
     "output_type": "stream",
     "text": [
      "R = 0.1\n",
      "Frequency = 10 Hz\n",
      "Pmax = 937.1 N\n",
      "Pmin = 93.7 N\n",
      "Amplitude = 421.7 N\n",
      "Mean = 421.7 N\n"
     ]
    }
   ],
   "source": [
    "#Print parameters\n",
    "print(\"R =\",R)\n",
    "print(\"Frequency = {:.0f} Hz\".format(frq))\n",
    "print(\"Pmax = {:.1f} N\".format(Pmax))\n",
    "print(\"Pmin = {:.1f} N\".format(Pmin))\n",
    "print(\"Amplitude = {:.1f} N\".format(Amp))\n",
    "print(\"Mean = {:.1f} N\".format(Amp))"
   ]
  },
  {
   "cell_type": "markdown",
   "metadata": {
    "Collapsed": "false"
   },
   "source": [
    "Plot the cyclic section of the loading curve"
   ]
  },
  {
   "cell_type": "code",
   "execution_count": 16,
   "metadata": {
    "Collapsed": "false"
   },
   "outputs": [
    {
     "data": {
      "image/png": "[encoded data removed]",
      "text/plain": [
       "<Figure size 1008x504 with 1 Axes>"
      ]
     },
     "metadata": {
      "needs_background": "light"
     },
     "output_type": "display_data"
    }
   ],
   "source": [
    "plt.figure(figsize=(14,7))\n",
    "\n",
    "# Get x values of the sine wave\n",
    "time = np.arange(0, 1, 0.001);\n",
    "# Amplitude of the sine wave\n",
    "amplitude = -Amp*np.sin(frq*time*2*np.pi) - (Mean)\n",
    "# Plot a sine wave using time and amplitude obtained for the sine wave\n",
    "plt.plot(time, amplitude)\n",
    "# Give a title for the sine wave plot\n",
    "plt.title('{} Fatigue Precrack {}Hz Load Wave'.format(mat,frq), fontsize=20)\n",
    "# Give x axis label for the sine wave plot\n",
    "plt.xlabel('Time (s)', fontsize=16)\n",
    "# Give y axis label for the sine wave plot\n",
    "plt.ylabel('Compressive Load (N)', fontsize=16)\n",
    "#Edit axis fontsize\n",
    "plt.rc('xtick',labelsize=16)\n",
    "plt.rc('ytick',labelsize=16)\n",
    "\n",
    "#Additional annotaions\n",
    "plt.axhline(y=-Mean,linestyle=':', color='k')\n",
    "plt.annotate('Mean Load', xy=(0, -Mean), xytext=(-0.05, -Mean + 50),\n",
    "            arrowprops=dict(facecolor='black', headwidth = 7, headlength = 7,shrink=0.05),)\n",
    "\n",
    "#Additonal tick coordinate\n",
    "coord = -0.1\n",
    "\n",
    "#Y tick at mean load\n",
    "plt.annotate('{:.0f}'.format(-Mean), xy=(0, -Mean), xytext=(coord, -Mean), color='purple', fontsize=14)\n",
    "#Y tick and line at max load\n",
    "plt.axhline(y=-Pmax,linestyle=':', color='k')\n",
    "plt.annotate('{:.0f}'.format(-Pmax), xy=(0, -Pmin), xytext=(coord, -Pmax), color='purple', fontsize=14)\n",
    "#Y tick and line at min load\n",
    "plt.axhline(y=-Pmin,linestyle=':', color='k')\n",
    "plt.annotate('{:.0f}'.format(-Pmin), xy=(0, -Pmin), xytext=(coord, -Pmin), color='purple', fontsize=14)\n",
    "\n",
    "plt.savefig('6061 Fatigue Curve.png')"
   ]
  },
  {
   "cell_type": "code",
   "execution_count": null,
   "metadata": {
    "Collapsed": "false"
   },
   "outputs": [],
   "source": []
  }
 ],
 "metadata": {
  "kernelspec": {
   "display_name": "Python 3",
   "language": "python",
   "name": "python3"
  },
  "language_info": {
   "codemirror_mode": {
    "name": "ipython",
    "version": 3
   },
   "file_extension": ".py",
   "mimetype": "text/x-python",
   "name": "python",
   "nbconvert_exporter": "python",
   "pygments_lexer": "ipython3",
   "version": "3.7.3"
  }
 },
 "nbformat": 4,
 "nbformat_minor": 4
}
